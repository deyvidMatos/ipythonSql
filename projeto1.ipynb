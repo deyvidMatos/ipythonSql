{
 "cells": [
  {
   "cell_type": "markdown",
   "id": "4cb7c665",
   "metadata": {},
   "source": [
    "# Execução de SQL em celulas Python"
   ]
  },
  {
   "cell_type": "markdown",
   "id": "bf274428",
   "metadata": {},
   "source": [
    "Ultilizando o pacote ipython-sql é possivel trabalhar com consultas em linguagem SQL diretamente no Jupyter Notebook. Ao conectar ao banco de dados temos todo o poder das consultas SQL em nossas mâo o que cria um ambiente mais dinamico, essa conecção pode ser feita com MySQL, PostgreSQL, Oracle."
   ]
  },
  {
   "cell_type": "markdown",
   "id": "b5de8218",
   "metadata": {},
   "source": [
    "### Importação de bibliotecas\n",
    "\n",
    "bibliotecas importadas:\n",
    "- pandas: Tem a capacidade de transformar e criar dataframes.\n",
    "- sqlite3: Ele tem é uma maneira mais simples de se trabalhar com Sql, possibilitando a sua ultilização sem a complexidade de um SGBD (Sistema Gerenciador de Banco de Dados). É usado para consultas e analises mais simples e rapidas. "
   ]
  },
  {
   "cell_type": "code",
   "execution_count": 1,
   "id": "6778fc55",
   "metadata": {},
   "outputs": [],
   "source": [
    "import pandas as pd\n",
    "import sqlite3"
   ]
  },
  {
   "cell_type": "markdown",
   "id": "af5416aa",
   "metadata": {},
   "source": [
    "Exemplo de ultilização"
   ]
  },
  {
   "cell_type": "code",
   "execution_count": 2,
   "id": "1ae8668b",
   "metadata": {},
   "outputs": [],
   "source": [
    "#criação de um dataframe\n",
    "dados = pd.DataFrame({'nome' : ['exemplo 1', 'exemplo 2', 'exemplo 3'],\n",
    "                      'cargo' : ['cargo 1', 'cargo 2', 'cargo 3'],\n",
    "                      'cidade' : ['cidade 1', 'cidade 2', 'cidade 3']})"
   ]
  },
  {
   "cell_type": "code",
   "execution_count": 3,
   "id": "5f50166f",
   "metadata": {
    "scrolled": false
   },
   "outputs": [
    {
     "data": {
      "text/html": [
       "<div>\n",
       "<style scoped>\n",
       "    .dataframe tbody tr th:only-of-type {\n",
       "        vertical-align: middle;\n",
       "    }\n",
       "\n",
       "    .dataframe tbody tr th {\n",
       "        vertical-align: top;\n",
       "    }\n",
       "\n",
       "    .dataframe thead th {\n",
       "        text-align: right;\n",
       "    }\n",
       "</style>\n",
       "<table border=\"1\" class=\"dataframe\">\n",
       "  <thead>\n",
       "    <tr style=\"text-align: right;\">\n",
       "      <th></th>\n",
       "      <th>nome</th>\n",
       "      <th>cargo</th>\n",
       "      <th>cidade</th>\n",
       "    </tr>\n",
       "  </thead>\n",
       "  <tbody>\n",
       "    <tr>\n",
       "      <th>0</th>\n",
       "      <td>exemplo 1</td>\n",
       "      <td>cargo 1</td>\n",
       "      <td>cidade 1</td>\n",
       "    </tr>\n",
       "    <tr>\n",
       "      <th>1</th>\n",
       "      <td>exemplo 2</td>\n",
       "      <td>cargo 2</td>\n",
       "      <td>cidade 2</td>\n",
       "    </tr>\n",
       "    <tr>\n",
       "      <th>2</th>\n",
       "      <td>exemplo 3</td>\n",
       "      <td>cargo 3</td>\n",
       "      <td>cidade 3</td>\n",
       "    </tr>\n",
       "  </tbody>\n",
       "</table>\n",
       "</div>"
      ],
      "text/plain": [
       "        nome    cargo    cidade\n",
       "0  exemplo 1  cargo 1  cidade 1\n",
       "1  exemplo 2  cargo 2  cidade 2\n",
       "2  exemplo 3  cargo 3  cidade 3"
      ]
     },
     "execution_count": 3,
     "metadata": {},
     "output_type": "execute_result"
    }
   ],
   "source": [
    "dados.head()"
   ]
  },
  {
   "cell_type": "code",
   "execution_count": 4,
   "id": "03ad53d7",
   "metadata": {},
   "outputs": [],
   "source": [
    "#Criando conexão com banco de dados sqlite\n",
    "cnn = sqlite3.connect('database/dbexemplo.db')"
   ]
  },
  {
   "attachments": {
    "image.png": {
     "image/png": "[encoded data removed]"
    }
   },
   "cell_type": "markdown",
   "id": "482b0b8b",
   "metadata": {},
   "source": [
    "![banco de dados criado](attachment:image.png)"
   ]
  },
  {
   "cell_type": "code",
   "execution_count": 5,
   "id": "ba569d4f",
   "metadata": {},
   "outputs": [
    {
     "data": {
      "text/plain": [
       "3"
      ]
     },
     "execution_count": 5,
     "metadata": {},
     "output_type": "execute_result"
    }
   ],
   "source": [
    "#copiando dataframe para dentro do banco de dados\n",
    "dados.to_sql('funcionarios', cnn)"
   ]
  },
  {
   "cell_type": "markdown",
   "id": "74f52313",
   "metadata": {},
   "source": [
    "### Carregando extenção SQL\n",
    "Ao carregar, ela que tornara possivel fazer as consultas SQL"
   ]
  },
  {
   "cell_type": "code",
   "execution_count": 6,
   "id": "ac3b11f7",
   "metadata": {},
   "outputs": [],
   "source": [
    "#carregando extenção\n",
    "%load_ext sql"
   ]
  },
  {
   "cell_type": "code",
   "execution_count": 7,
   "id": "150585a6",
   "metadata": {},
   "outputs": [
    {
     "data": {
      "text/plain": [
       "'Connected: @database/dbexemplo.db'"
      ]
     },
     "execution_count": 7,
     "metadata": {},
     "output_type": "execute_result"
    }
   ],
   "source": [
    "#definição do banco de dados\n",
    "%sql sqlite:///database/dbexemplo.db"
   ]
  },
  {
   "cell_type": "markdown",
   "id": "16942cbe",
   "metadata": {},
   "source": [
    "Executando de consulta SQL"
   ]
  },
  {
   "cell_type": "code",
   "execution_count": 8,
   "id": "05dcaeea",
   "metadata": {},
   "outputs": [
    {
     "name": "stdout",
     "output_type": "stream",
     "text": [
      " * sqlite:///database/dbexemplo.db\n",
      "Done.\n"
     ]
    },
    {
     "data": {
      "text/html": [
       "<table>\n",
       "    <thead>\n",
       "        <tr>\n",
       "            <th>index</th>\n",
       "            <th>nome</th>\n",
       "            <th>cargo</th>\n",
       "            <th>cidade</th>\n",
       "        </tr>\n",
       "    </thead>\n",
       "    <tbody>\n",
       "        <tr>\n",
       "            <td>0</td>\n",
       "            <td>exemplo 1</td>\n",
       "            <td>cargo 1</td>\n",
       "            <td>cidade 1</td>\n",
       "        </tr>\n",
       "        <tr>\n",
       "            <td>1</td>\n",
       "            <td>exemplo 2</td>\n",
       "            <td>cargo 2</td>\n",
       "            <td>cidade 2</td>\n",
       "        </tr>\n",
       "        <tr>\n",
       "            <td>2</td>\n",
       "            <td>exemplo 3</td>\n",
       "            <td>cargo 3</td>\n",
       "            <td>cidade 3</td>\n",
       "        </tr>\n",
       "    </tbody>\n",
       "</table>"
      ],
      "text/plain": [
       "[(0, 'exemplo 1', 'cargo 1', 'cidade 1'),\n",
       " (1, 'exemplo 2', 'cargo 2', 'cidade 2'),\n",
       " (2, 'exemplo 3', 'cargo 3', 'cidade 3')]"
      ]
     },
     "execution_count": 8,
     "metadata": {},
     "output_type": "execute_result"
    }
   ],
   "source": [
    "%%sql\n",
    "\n",
    "SELECT * from funcionarios"
   ]
  },
  {
   "cell_type": "code",
   "execution_count": 9,
   "id": "6ff6ff6b",
   "metadata": {},
   "outputs": [
    {
     "name": "stdout",
     "output_type": "stream",
     "text": [
      " * sqlite:///database/dbexemplo.db\n",
      "Done.\n"
     ]
    },
    {
     "data": {
      "text/html": [
       "<table>\n",
       "    <thead>\n",
       "        <tr>\n",
       "            <th>count(*)</th>\n",
       "        </tr>\n",
       "    </thead>\n",
       "    <tbody>\n",
       "        <tr>\n",
       "            <td>3</td>\n",
       "        </tr>\n",
       "    </tbody>\n",
       "</table>"
      ],
      "text/plain": [
       "[(3,)]"
      ]
     },
     "execution_count": 9,
     "metadata": {},
     "output_type": "execute_result"
    }
   ],
   "source": [
    "%%sql\n",
    "\n",
    "SELECT count(*) FROM funcionarios "
   ]
  }
 ],
 "metadata": {
  "kernelspec": {
   "display_name": "Python 3 (ipykernel)",
   "language": "python",
   "name": "python3"
  },
  "language_info": {
   "codemirror_mode": {
    "name": "ipython",
    "version": 3
   },
   "file_extension": ".py",
   "mimetype": "text/x-python",
   "name": "python",
   "nbconvert_exporter": "python",
   "pygments_lexer": "ipython3",
   "version": "3.11.4"
  }
 },
 "nbformat": 4,
 "nbformat_minor": 5
}
